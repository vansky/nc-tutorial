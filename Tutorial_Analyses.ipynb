{
 "cells": [
  {
   "cell_type": "markdown",
   "metadata": {},
   "source": [
    "# Imports"
   ]
  },
  {
   "cell_type": "code",
   "execution_count": 2,
   "metadata": {},
   "outputs": [],
   "source": [
    "import seaborn as sns\n",
    "import pandas as pd\n",
    "import matplotlib.pyplot as plt\n",
    "\n",
    "%matplotlib inline"
   ]
  },
  {
   "cell_type": "markdown",
   "metadata": {},
   "source": [
    "# Analysis 01: Garden Path\n",
    "## Evaluate whether model garden paths"
   ]
  },
  {
   "cell_type": "markdown",
   "metadata": {},
   "source": [
    "    time python main.py --model_file 'grnn.model' --vocab_file 'grnn.vocab' \\\n",
    "    --data_dir './data/rrc/' --testfname 'rrc.txt' --test --words --nopp > rrc.output  \n",
    "    \n",
    "    time python main.py --model_file 'grnn.model' --vocab_file 'grnn.vocab' \\\n",
    "    --data_dir './data/rrc/' --testfname 'urc.txt' --test --words --nopp > urc.output  "
   ]
  },
  {
   "cell_type": "markdown",
   "metadata": {},
   "source": [
    "## Read in Data"
   ]
  },
  {
   "cell_type": "code",
   "execution_count": 3,
   "metadata": {},
   "outputs": [],
   "source": [
    "urc = pd.read_csv('urc.output', sep=' ')\n",
    "urc['senttype'] = 'URC'\n",
    "rrc = pd.read_csv('rrc.output', sep=' ')\n",
    "rrc['senttype'] = 'RRC'"
   ]
  },
  {
   "cell_type": "markdown",
   "metadata": {},
   "source": [
    "## Pull out critical region"
   ]
  },
  {
   "cell_type": "code",
   "execution_count": 4,
   "metadata": {},
   "outputs": [],
   "source": [
    "urc = urc[urc['sentpos'].isin((9,10,11))]\n",
    "urc['critpos'] = urc['sentpos'] - 9\n",
    "rrc = rrc[rrc['sentpos'].isin((7,8,9))]\n",
    "rrc['critpos'] = rrc['sentpos'] - 7\n",
    "df = pd.concat((urc,rrc),axis=0)"
   ]
  },
  {
   "cell_type": "markdown",
   "metadata": {},
   "source": [
    "## Plot garden path"
   ]
  },
  {
   "cell_type": "code",
   "execution_count": 5,
   "metadata": {},
   "outputs": [
    {
     "name": "stderr",
     "output_type": "stream",
     "text": [
      "/home/theodore/miniconda3/envs/py37/lib/python3.7/site-packages/scipy/stats/stats.py:1713: FutureWarning: Using a non-tuple sequence for multidimensional indexing is deprecated; use `arr[tuple(seq)]` instead of `arr[seq]`. In the future this will be interpreted as an array index, `arr[np.array(seq)]`, which will result either in an error or a different result.\n",
      "  return np.add.reduce(sorted[indexer] * weights, axis=axis) / sumval\n"
     ]
    },
    {
     "data": {
      "text/plain": [
       "<matplotlib.axes._subplots.AxesSubplot at 0x7fa2d06687f0>"
      ]
     },
     "execution_count": 5,
     "metadata": {},
     "output_type": "execute_result"
    },
    {
     "data": {
      "image/png": "[encoded data removed]",
      "text/plain": [
       "<Figure size 432x288 with 1 Axes>"
      ]
     },
     "metadata": {
      "needs_background": "light"
     },
     "output_type": "display_data"
    }
   ],
   "source": [
    "sns.barplot('senttype','surp',data=df)"
   ]
  },
  {
   "cell_type": "code",
   "execution_count": 6,
   "metadata": {
    "scrolled": true
   },
   "outputs": [
    {
     "data": {
      "text/plain": [
       "<matplotlib.axes._subplots.AxesSubplot at 0x7fa2d0266be0>"
      ]
     },
     "execution_count": 6,
     "metadata": {},
     "output_type": "execute_result"
    },
    {
     "data": {
      "image/png": "[encoded data removed]",
      "text/plain": [
       "<Figure size 432x288 with 1 Axes>"
      ]
     },
     "metadata": {
      "needs_background": "light"
     },
     "output_type": "display_data"
    }
   ],
   "source": [
    "sns.barplot('senttype','surp',hue='critpos',data=df)"
   ]
  },
  {
   "cell_type": "markdown",
   "metadata": {},
   "source": [
    "# Analysis 02: Minimal Pairs\n",
    "## Evaluate whether model makes agreement errors"
   ]
  },
  {
   "cell_type": "markdown",
   "metadata": {},
   "source": [
    "    time python main.py --model_file 'grnn.model' --vocab_file 'grnn.vocab' --data_dir './data/keys/' \\\n",
    "    --testfname 'keys-basic.txt' --test --words --nopp > keys.basic.output  \n",
    "    \n",
    "    time python main.py --model_file 'grnn.model' --vocab_file 'grnn.vocab' --data_dir './data/keys/' \\\n",
    "    --testfname 'keys-pprc.txt' --test --words --nopp > keys.pprc.output"
   ]
  },
  {
   "cell_type": "code",
   "execution_count": 23,
   "metadata": {},
   "outputs": [],
   "source": [
    "keys = pd.read_csv('keys.basic.output', sep=' ')"
   ]
  },
  {
   "cell_type": "code",
   "execution_count": 24,
   "metadata": {},
   "outputs": [
    {
     "data": {
      "text/html": [
       "<div>\n",
       "<style scoped>\n",
       "    .dataframe tbody tr th:only-of-type {\n",
       "        vertical-align: middle;\n",
       "    }\n",
       "\n",
       "    .dataframe tbody tr th {\n",
       "        vertical-align: top;\n",
       "    }\n",
       "\n",
       "    .dataframe thead th {\n",
       "        text-align: right;\n",
       "    }\n",
       "</style>\n",
       "<table border=\"1\" class=\"dataframe\">\n",
       "  <thead>\n",
       "    <tr style=\"text-align: right;\">\n",
       "      <th></th>\n",
       "      <th>word</th>\n",
       "      <th>sentid</th>\n",
       "      <th>sentpos</th>\n",
       "      <th>wlen</th>\n",
       "      <th>surp</th>\n",
       "      <th>entropy</th>\n",
       "      <th>entred</th>\n",
       "    </tr>\n",
       "  </thead>\n",
       "  <tbody>\n",
       "    <tr>\n",
       "      <th>0</th>\n",
       "      <td>The</td>\n",
       "      <td>0</td>\n",
       "      <td>0</td>\n",
       "      <td>3</td>\n",
       "      <td>5.106277</td>\n",
       "      <td>5.545646</td>\n",
       "      <td>0.000000</td>\n",
       "    </tr>\n",
       "    <tr>\n",
       "      <th>1</th>\n",
       "      <td>key</td>\n",
       "      <td>0</td>\n",
       "      <td>1</td>\n",
       "      <td>3</td>\n",
       "      <td>9.467516</td>\n",
       "      <td>7.150015</td>\n",
       "      <td>0.000000</td>\n",
       "    </tr>\n",
       "    <tr>\n",
       "      <th>2</th>\n",
       "      <td>to</td>\n",
       "      <td>0</td>\n",
       "      <td>2</td>\n",
       "      <td>2</td>\n",
       "      <td>1.580543</td>\n",
       "      <td>5.429576</td>\n",
       "      <td>1.720439</td>\n",
       "    </tr>\n",
       "    <tr>\n",
       "      <th>3</th>\n",
       "      <td>the</td>\n",
       "      <td>0</td>\n",
       "      <td>3</td>\n",
       "      <td>3</td>\n",
       "      <td>0.867243</td>\n",
       "      <td>4.476835</td>\n",
       "      <td>0.952741</td>\n",
       "    </tr>\n",
       "    <tr>\n",
       "      <th>4</th>\n",
       "      <td>cabinets</td>\n",
       "      <td>0</td>\n",
       "      <td>4</td>\n",
       "      <td>8</td>\n",
       "      <td>14.355133</td>\n",
       "      <td>7.407035</td>\n",
       "      <td>0.000000</td>\n",
       "    </tr>\n",
       "    <tr>\n",
       "      <th>5</th>\n",
       "      <td>is</td>\n",
       "      <td>0</td>\n",
       "      <td>5</td>\n",
       "      <td>2</td>\n",
       "      <td>2.440182</td>\n",
       "      <td>3.668498</td>\n",
       "      <td>3.738537</td>\n",
       "    </tr>\n",
       "    <tr>\n",
       "      <th>6</th>\n",
       "      <td>The</td>\n",
       "      <td>1</td>\n",
       "      <td>0</td>\n",
       "      <td>3</td>\n",
       "      <td>5.106277</td>\n",
       "      <td>5.545646</td>\n",
       "      <td>0.000000</td>\n",
       "    </tr>\n",
       "    <tr>\n",
       "      <th>7</th>\n",
       "      <td>keys</td>\n",
       "      <td>1</td>\n",
       "      <td>1</td>\n",
       "      <td>4</td>\n",
       "      <td>11.710403</td>\n",
       "      <td>7.150015</td>\n",
       "      <td>0.000000</td>\n",
       "    </tr>\n",
       "    <tr>\n",
       "      <th>8</th>\n",
       "      <td>to</td>\n",
       "      <td>1</td>\n",
       "      <td>2</td>\n",
       "      <td>2</td>\n",
       "      <td>1.405390</td>\n",
       "      <td>3.440821</td>\n",
       "      <td>3.709193</td>\n",
       "    </tr>\n",
       "    <tr>\n",
       "      <th>9</th>\n",
       "      <td>the</td>\n",
       "      <td>1</td>\n",
       "      <td>3</td>\n",
       "      <td>3</td>\n",
       "      <td>0.586971</td>\n",
       "      <td>3.524778</td>\n",
       "      <td>0.000000</td>\n",
       "    </tr>\n",
       "    <tr>\n",
       "      <th>10</th>\n",
       "      <td>cabinet</td>\n",
       "      <td>1</td>\n",
       "      <td>4</td>\n",
       "      <td>7</td>\n",
       "      <td>9.425830</td>\n",
       "      <td>7.636627</td>\n",
       "      <td>0.000000</td>\n",
       "    </tr>\n",
       "    <tr>\n",
       "      <th>11</th>\n",
       "      <td>are</td>\n",
       "      <td>1</td>\n",
       "      <td>5</td>\n",
       "      <td>3</td>\n",
       "      <td>1.527412</td>\n",
       "      <td>4.178739</td>\n",
       "      <td>3.457888</td>\n",
       "    </tr>\n",
       "    <tr>\n",
       "      <th>12</th>\n",
       "      <td>The</td>\n",
       "      <td>2</td>\n",
       "      <td>0</td>\n",
       "      <td>3</td>\n",
       "      <td>5.106277</td>\n",
       "      <td>5.545646</td>\n",
       "      <td>0.000000</td>\n",
       "    </tr>\n",
       "    <tr>\n",
       "      <th>13</th>\n",
       "      <td>key</td>\n",
       "      <td>2</td>\n",
       "      <td>1</td>\n",
       "      <td>3</td>\n",
       "      <td>9.467516</td>\n",
       "      <td>7.150015</td>\n",
       "      <td>0.000000</td>\n",
       "    </tr>\n",
       "    <tr>\n",
       "      <th>14</th>\n",
       "      <td>to</td>\n",
       "      <td>2</td>\n",
       "      <td>2</td>\n",
       "      <td>2</td>\n",
       "      <td>1.580543</td>\n",
       "      <td>5.429576</td>\n",
       "      <td>1.720439</td>\n",
       "    </tr>\n",
       "    <tr>\n",
       "      <th>15</th>\n",
       "      <td>the</td>\n",
       "      <td>2</td>\n",
       "      <td>3</td>\n",
       "      <td>3</td>\n",
       "      <td>0.867243</td>\n",
       "      <td>4.476835</td>\n",
       "      <td>0.952741</td>\n",
       "    </tr>\n",
       "    <tr>\n",
       "      <th>16</th>\n",
       "      <td>cabinets</td>\n",
       "      <td>2</td>\n",
       "      <td>4</td>\n",
       "      <td>8</td>\n",
       "      <td>14.355133</td>\n",
       "      <td>7.407035</td>\n",
       "      <td>0.000000</td>\n",
       "    </tr>\n",
       "    <tr>\n",
       "      <th>17</th>\n",
       "      <td>are</td>\n",
       "      <td>2</td>\n",
       "      <td>5</td>\n",
       "      <td>3</td>\n",
       "      <td>3.888806</td>\n",
       "      <td>3.668498</td>\n",
       "      <td>3.738537</td>\n",
       "    </tr>\n",
       "    <tr>\n",
       "      <th>18</th>\n",
       "      <td>The</td>\n",
       "      <td>3</td>\n",
       "      <td>0</td>\n",
       "      <td>3</td>\n",
       "      <td>5.106277</td>\n",
       "      <td>5.545646</td>\n",
       "      <td>0.000000</td>\n",
       "    </tr>\n",
       "    <tr>\n",
       "      <th>19</th>\n",
       "      <td>keys</td>\n",
       "      <td>3</td>\n",
       "      <td>1</td>\n",
       "      <td>4</td>\n",
       "      <td>11.710403</td>\n",
       "      <td>7.150015</td>\n",
       "      <td>0.000000</td>\n",
       "    </tr>\n",
       "    <tr>\n",
       "      <th>20</th>\n",
       "      <td>to</td>\n",
       "      <td>3</td>\n",
       "      <td>2</td>\n",
       "      <td>2</td>\n",
       "      <td>1.405390</td>\n",
       "      <td>3.440821</td>\n",
       "      <td>3.709193</td>\n",
       "    </tr>\n",
       "    <tr>\n",
       "      <th>21</th>\n",
       "      <td>the</td>\n",
       "      <td>3</td>\n",
       "      <td>3</td>\n",
       "      <td>3</td>\n",
       "      <td>0.586971</td>\n",
       "      <td>3.524778</td>\n",
       "      <td>0.000000</td>\n",
       "    </tr>\n",
       "    <tr>\n",
       "      <th>22</th>\n",
       "      <td>cabinet</td>\n",
       "      <td>3</td>\n",
       "      <td>4</td>\n",
       "      <td>7</td>\n",
       "      <td>9.425830</td>\n",
       "      <td>7.636627</td>\n",
       "      <td>0.000000</td>\n",
       "    </tr>\n",
       "    <tr>\n",
       "      <th>23</th>\n",
       "      <td>is</td>\n",
       "      <td>3</td>\n",
       "      <td>5</td>\n",
       "      <td>2</td>\n",
       "      <td>5.355857</td>\n",
       "      <td>4.178739</td>\n",
       "      <td>3.457888</td>\n",
       "    </tr>\n",
       "  </tbody>\n",
       "</table>\n",
       "</div>"
      ],
      "text/plain": [
       "        word  sentid  sentpos  wlen       surp   entropy    entred\n",
       "0        The       0        0     3   5.106277  5.545646  0.000000\n",
       "1        key       0        1     3   9.467516  7.150015  0.000000\n",
       "2         to       0        2     2   1.580543  5.429576  1.720439\n",
       "3        the       0        3     3   0.867243  4.476835  0.952741\n",
       "4   cabinets       0        4     8  14.355133  7.407035  0.000000\n",
       "5         is       0        5     2   2.440182  3.668498  3.738537\n",
       "6        The       1        0     3   5.106277  5.545646  0.000000\n",
       "7       keys       1        1     4  11.710403  7.150015  0.000000\n",
       "8         to       1        2     2   1.405390  3.440821  3.709193\n",
       "9        the       1        3     3   0.586971  3.524778  0.000000\n",
       "10   cabinet       1        4     7   9.425830  7.636627  0.000000\n",
       "11       are       1        5     3   1.527412  4.178739  3.457888\n",
       "12       The       2        0     3   5.106277  5.545646  0.000000\n",
       "13       key       2        1     3   9.467516  7.150015  0.000000\n",
       "14        to       2        2     2   1.580543  5.429576  1.720439\n",
       "15       the       2        3     3   0.867243  4.476835  0.952741\n",
       "16  cabinets       2        4     8  14.355133  7.407035  0.000000\n",
       "17       are       2        5     3   3.888806  3.668498  3.738537\n",
       "18       The       3        0     3   5.106277  5.545646  0.000000\n",
       "19      keys       3        1     4  11.710403  7.150015  0.000000\n",
       "20        to       3        2     2   1.405390  3.440821  3.709193\n",
       "21       the       3        3     3   0.586971  3.524778  0.000000\n",
       "22   cabinet       3        4     7   9.425830  7.636627  0.000000\n",
       "23        is       3        5     2   5.355857  4.178739  3.457888"
      ]
     },
     "execution_count": 24,
     "metadata": {},
     "output_type": "execute_result"
    }
   ],
   "source": [
    "keys"
   ]
  },
  {
   "cell_type": "code",
   "execution_count": 19,
   "metadata": {},
   "outputs": [],
   "source": [
    "keys = keys[keys['sentpos'] == 5]\n",
    "keys['cond'] = ['match','match','mismatch','mismatch']"
   ]
  },
  {
   "cell_type": "code",
   "execution_count": 20,
   "metadata": {},
   "outputs": [
    {
     "data": {
      "text/html": [
       "<div>\n",
       "<style scoped>\n",
       "    .dataframe tbody tr th:only-of-type {\n",
       "        vertical-align: middle;\n",
       "    }\n",
       "\n",
       "    .dataframe tbody tr th {\n",
       "        vertical-align: top;\n",
       "    }\n",
       "\n",
       "    .dataframe thead th {\n",
       "        text-align: right;\n",
       "    }\n",
       "</style>\n",
       "<table border=\"1\" class=\"dataframe\">\n",
       "  <thead>\n",
       "    <tr style=\"text-align: right;\">\n",
       "      <th></th>\n",
       "      <th>word</th>\n",
       "      <th>sentid</th>\n",
       "      <th>sentpos</th>\n",
       "      <th>wlen</th>\n",
       "      <th>surp</th>\n",
       "      <th>entropy</th>\n",
       "      <th>entred</th>\n",
       "      <th>cond</th>\n",
       "    </tr>\n",
       "  </thead>\n",
       "  <tbody>\n",
       "    <tr>\n",
       "      <th>5</th>\n",
       "      <td>is</td>\n",
       "      <td>0</td>\n",
       "      <td>5</td>\n",
       "      <td>2</td>\n",
       "      <td>2.440182</td>\n",
       "      <td>3.668498</td>\n",
       "      <td>3.738537</td>\n",
       "      <td>match</td>\n",
       "    </tr>\n",
       "    <tr>\n",
       "      <th>11</th>\n",
       "      <td>are</td>\n",
       "      <td>1</td>\n",
       "      <td>5</td>\n",
       "      <td>3</td>\n",
       "      <td>1.527412</td>\n",
       "      <td>4.178739</td>\n",
       "      <td>3.457888</td>\n",
       "      <td>match</td>\n",
       "    </tr>\n",
       "    <tr>\n",
       "      <th>17</th>\n",
       "      <td>are</td>\n",
       "      <td>2</td>\n",
       "      <td>5</td>\n",
       "      <td>3</td>\n",
       "      <td>3.888806</td>\n",
       "      <td>3.668498</td>\n",
       "      <td>3.738537</td>\n",
       "      <td>mismatch</td>\n",
       "    </tr>\n",
       "    <tr>\n",
       "      <th>23</th>\n",
       "      <td>is</td>\n",
       "      <td>3</td>\n",
       "      <td>5</td>\n",
       "      <td>2</td>\n",
       "      <td>5.355857</td>\n",
       "      <td>4.178739</td>\n",
       "      <td>3.457888</td>\n",
       "      <td>mismatch</td>\n",
       "    </tr>\n",
       "  </tbody>\n",
       "</table>\n",
       "</div>"
      ],
      "text/plain": [
       "   word  sentid  sentpos  wlen      surp   entropy    entred      cond\n",
       "5    is       0        5     2  2.440182  3.668498  3.738537     match\n",
       "11  are       1        5     3  1.527412  4.178739  3.457888     match\n",
       "17  are       2        5     3  3.888806  3.668498  3.738537  mismatch\n",
       "23   is       3        5     2  5.355857  4.178739  3.457888  mismatch"
      ]
     },
     "execution_count": 20,
     "metadata": {},
     "output_type": "execute_result"
    }
   ],
   "source": [
    "keys"
   ]
  },
  {
   "cell_type": "code",
   "execution_count": 21,
   "metadata": {},
   "outputs": [
    {
     "data": {
      "text/plain": [
       "<matplotlib.axes._subplots.AxesSubplot at 0x7fa2cff4a9b0>"
      ]
     },
     "execution_count": 21,
     "metadata": {},
     "output_type": "execute_result"
    },
    {
     "data": {
      "image/png": "[encoded data removed]",
      "text/plain": [
       "<Figure size 432x288 with 1 Axes>"
      ]
     },
     "metadata": {
      "needs_background": "light"
     },
     "output_type": "display_data"
    }
   ],
   "source": [
    "sns.barplot('word','surp',hue='cond',data=keys)"
   ]
  },
  {
   "cell_type": "markdown",
   "metadata": {},
   "source": [
    "### Notice that the model is less surprised by plurals, similar to humans"
   ]
  }
 ],
 "metadata": {
  "kernelspec": {
   "display_name": "Python py37",
   "language": "python",
   "name": "py37"
  },
  "language_info": {
   "codemirror_mode": {
    "name": "ipython",
    "version": 3
   },
   "file_extension": ".py",
   "mimetype": "text/x-python",
   "name": "python",
   "nbconvert_exporter": "python",
   "pygments_lexer": "ipython3",
   "version": "3.7.1"
  }
 },
 "nbformat": 4,
 "nbformat_minor": 2
}
